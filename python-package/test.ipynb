{
 "cells": [
  {
   "cell_type": "code",
   "execution_count": 8,
   "metadata": {},
   "outputs": [
    {
     "data": {
      "text/plain": [
       "4"
      ]
     },
     "execution_count": 8,
     "metadata": {},
     "output_type": "execute_result"
    }
   ],
   "source": [
    "# import drf\n",
    "\n",
    "# drf.hello(1, 2)"
   ]
  },
  {
   "cell_type": "code",
   "execution_count": 1,
   "metadata": {},
   "outputs": [
    {
     "name": "stderr",
     "output_type": "stream",
     "text": [
      "/Users/cevidd/opt/anaconda3/lib/python3.7/site-packages/rpy2/robjects/vectors.py:969: UserWarning: R object inheriting from \"POSIXct\" but without attribute \"tzone\".\n",
      "  warnings.warn('R object inheriting from \"POSIXct\" but without '\n"
     ]
    }
   ],
   "source": [
    "import pandas as pd\n",
    "import numpy as np\n",
    "import rpy2.robjects as ro\n",
    "\n",
    "import rpy2.robjects.numpy2ri\n",
    "rpy2.robjects.numpy2ri.activate()\n",
    "from rpy2.robjects import pandas2ri\n",
    "pandas2ri.activate()\n",
    "#from rpy2 import robjects\n",
    "#from rpy2.robjects.vectors import IntVector\n",
    "#rpy2.robjects.NameClassMap = rpy2.robjects.conversion.NameClassMap\n",
    "#from rpy2_Matrix import Matrix\n",
    "#from rpy2_Matrix import conversion\n",
    "\n",
    "# Choosing a CRAN Mirror\n",
    "#import rpy2.robjects.packages as rpackages\n",
    "#utils = rpackages.importr('utils')\n",
    "#utils.chooseCRANmirror(ind=1)\n",
    "\n",
    "# Installing required packages\n",
    "#from rpy2.robjects.vectors import StrVector\n",
    "#packages = ('drf')\n",
    "#utils.install_packages(StrVector(packages))\n",
    "\n",
    "# Import packages\n",
    "from rpy2.robjects.packages import importr\n",
    "base, drf_r_package = importr('base'), importr('drf')\n",
    "\n",
    "# Import Functions\n",
    "#fit, predict = drf.drf, drf.predict_drf\n",
    "\n",
    "def convert_to_R(X):\n",
    "    if type(X) == np.ndarray:\n",
    "        if len(X.shape) == 1: \n",
    "            X = X.reshape(1, X.shape[0])\n",
    "        nr, nc = X.shape\n",
    "        return ro.r.matrix(X, nrow=nr, ncol=nc)\n",
    "\n",
    "    if type(X) == pd.core.frame.DataFrame:\n",
    "        #tmp = X.to_numpy()\n",
    "        #nr, nc = tmp.shape\n",
    "        #return ro.r.matrix(tmp, nrow=nr, ncol=nc)\n",
    "        return ro.conversion.py2rpy(X)\n",
    "\n",
    "class drf:\n",
    "    def __init__(self, **fit_params):\n",
    "        self.fit_params = fit_params \n",
    "    \n",
    "    class predict_output: pass\n",
    "    \n",
    "    def fit(self, X, Y):\n",
    "        self.X_train = X\n",
    "        self.Y_train = Y\n",
    "        \n",
    "        X_r = convert_to_R(X)\n",
    "        Y_r = convert_to_R(Y)\n",
    "        \n",
    "        self.r_fit_object = drf_r_package.drf(X_r, Y_r, **self.fit_params)\n",
    "\n",
    "    def predict(self, newdata, **predict_params):\n",
    "        newdata_r = convert_to_R(newdata)\n",
    "        r_output = drf_r_package.predict_drf(self.r_fit_object, newdata_r)\n",
    "        \n",
    "        weights = base.as_matrix(r_output[0])\n",
    "    \n",
    "        #y = r_output[1]\n",
    "        ret = self.predict_output()\n",
    "        ret.weights = weights\n",
    "        ret.y = r_output[1]\n",
    "        return ret\n",
    "        #Ytr = self.Y_train#.apply(transformation)\n",
    "        \n",
    "        if functional=='weights':\n",
    "            ret.weights = weights\n",
    "        #    ret.y = Ytr\n",
    "        elif functional=='mean':\n",
    "            ret.mean = np.zeros((newdata.shape[0], Ytr.shape[1]))\n",
    "            for i in range(newdata.shape[0]):\n",
    "                ret.mean[i,:] = Ytr.multiply(weights[i,:], axis=0).mean().to_numpy() \n",
    "        elif functional=='sd':\n",
    "            pass\n",
    "        elif functional=='quantile':\n",
    "            pass\n",
    "        elif functional=='cov':\n",
    "            pass\n",
    "        elif functional=='cor':\n",
    "            pass\n",
    "        return ret  \n",
    "                    "
   ]
  },
  {
   "cell_type": "code",
   "execution_count": 2,
   "metadata": {},
   "outputs": [],
   "source": [
    "import numpy as np\n",
    "import pandas as pd\n",
    "\n",
    "n=1000\n",
    "p=10\n",
    "d=2\n",
    "X = np.random.normal(0, 1, size=(n, p))\n",
    "Y = np.random.normal(0, 1, size=(n, d))\n",
    "Y[:,0] = Y[:,0] + X[:,0]\n",
    "Y[:,1] = Y[:,1] * X[:,1]\n",
    "\n",
    "#X = pd.DataFrame(X)\n",
    "#Y = pd.DataFrame(Y)"
   ]
  },
  {
   "cell_type": "code",
   "execution_count": 3,
   "metadata": {},
   "outputs": [],
   "source": [
    "regr = drf(mtry=3, bandwidth=1.1, min_node_size=10, num_trees=100, num_features=10, splitting_rule=\"CART\")\n",
    "regr.fit(X, Y)\n",
    "#out = regr.predict(newdata=X)#, transformation=lambda y : y)#, quantiles=np.array([0.1, 0.5, 0.9]))\n",
    "#fix quantiles parameter to be of any type\n",
    "#reformat quantiles output\n",
    "#out.weights"
   ]
  },
  {
   "cell_type": "code",
   "execution_count": null,
   "metadata": {},
   "outputs": [],
   "source": []
  }
 ],
 "metadata": {
  "kernelspec": {
   "display_name": "Python 3",
   "language": "python",
   "name": "python3"
  },
  "language_info": {
   "codemirror_mode": {
    "name": "ipython",
    "version": 3
   },
   "file_extension": ".py",
   "mimetype": "text/x-python",
   "name": "python",
   "nbconvert_exporter": "python",
   "pygments_lexer": "ipython3",
   "version": "3.7.4"
  }
 },
 "nbformat": 4,
 "nbformat_minor": 2
}
