{
 "cells": [
  {
   "cell_type": "code",
   "execution_count": 8,
   "metadata": {},
   "outputs": [
    {
     "data": {
      "text/plain": [
       "4"
      ]
     },
     "execution_count": 8,
     "metadata": {},
     "output_type": "execute_result"
    }
   ],
   "source": [
    "# import drf\n",
    "\n",
    "# drf.hello(1, 2)"
   ]
  },
  {
   "cell_type": "code",
   "execution_count": 4,
   "metadata": {},
   "outputs": [
    {
     "ename": "AttributeError",
     "evalue": "module 'rpy2.robjects' has no attribute 'rs4map_context'",
     "output_type": "error",
     "traceback": [
      "\u001b[0;31m---------------------------------------------------------------------------\u001b[0m",
      "\u001b[0;31mAttributeError\u001b[0m                            Traceback (most recent call last)",
      "\u001b[0;32m<ipython-input-4-dc6d4edafdba>\u001b[0m in \u001b[0;36m<module>\u001b[0;34m\u001b[0m\n\u001b[1;32m     11\u001b[0m \u001b[0mrpy2\u001b[0m\u001b[0;34m.\u001b[0m\u001b[0mrobjects\u001b[0m\u001b[0;34m.\u001b[0m\u001b[0mNameClassMap\u001b[0m \u001b[0;34m=\u001b[0m \u001b[0mrpy2\u001b[0m\u001b[0;34m.\u001b[0m\u001b[0mrobjects\u001b[0m\u001b[0;34m.\u001b[0m\u001b[0mconversion\u001b[0m\u001b[0;34m.\u001b[0m\u001b[0mNameClassMap\u001b[0m\u001b[0;34m\u001b[0m\u001b[0;34m\u001b[0m\u001b[0m\n\u001b[1;32m     12\u001b[0m \u001b[0;32mfrom\u001b[0m \u001b[0mrpy2_Matrix\u001b[0m \u001b[0;32mimport\u001b[0m \u001b[0mMatrix\u001b[0m\u001b[0;34m\u001b[0m\u001b[0;34m\u001b[0m\u001b[0m\n\u001b[0;32m---> 13\u001b[0;31m \u001b[0;32mfrom\u001b[0m \u001b[0mrpy2_Matrix\u001b[0m \u001b[0;32mimport\u001b[0m \u001b[0mconversion\u001b[0m\u001b[0;34m\u001b[0m\u001b[0;34m\u001b[0m\u001b[0m\n\u001b[0m\u001b[1;32m     14\u001b[0m \u001b[0;34m\u001b[0m\u001b[0m\n\u001b[1;32m     15\u001b[0m \u001b[0;31m# Choosing a CRAN Mirror\u001b[0m\u001b[0;34m\u001b[0m\u001b[0;34m\u001b[0m\u001b[0;34m\u001b[0m\u001b[0m\n",
      "\u001b[0;32m~/opt/anaconda3/lib/python3.7/site-packages/rpy2_Matrix/conversion.py\u001b[0m in \u001b[0;36m<module>\u001b[0;34m\u001b[0m\n\u001b[1;32m     17\u001b[0m \u001b[0;34m\u001b[0m\u001b[0m\n\u001b[1;32m     18\u001b[0m \u001b[0;34m\u001b[0m\u001b[0m\n\u001b[0;32m---> 19\u001b[0;31m \u001b[0mrs4map_context\u001b[0m \u001b[0;34m=\u001b[0m \u001b[0mpartial\u001b[0m\u001b[0;34m(\u001b[0m\u001b[0mrpy2\u001b[0m\u001b[0;34m.\u001b[0m\u001b[0mrobjects\u001b[0m\u001b[0;34m.\u001b[0m\u001b[0mrs4map_context\u001b[0m\u001b[0;34m,\u001b[0m \u001b[0mMatrix\u001b[0m\u001b[0;34m.\u001b[0m\u001b[0m_classmap\u001b[0m\u001b[0;34m)\u001b[0m\u001b[0;34m\u001b[0m\u001b[0;34m\u001b[0m\u001b[0m\n\u001b[0m\u001b[1;32m     20\u001b[0m \u001b[0;34m\u001b[0m\u001b[0m\n\u001b[1;32m     21\u001b[0m \u001b[0mcast\u001b[0m \u001b[0;34m=\u001b[0m \u001b[0mconversion\u001b[0m\u001b[0;34m.\u001b[0m\u001b[0mConverter\u001b[0m\u001b[0;34m(\u001b[0m\u001b[0;34m'Cast R objects into scipy objects'\u001b[0m\u001b[0;34m)\u001b[0m\u001b[0;34m\u001b[0m\u001b[0;34m\u001b[0m\u001b[0m\n",
      "\u001b[0;31mAttributeError\u001b[0m: module 'rpy2.robjects' has no attribute 'rs4map_context'"
     ]
    }
   ],
   "source": [
    "import pandas as pd\n",
    "import numpy as np\n",
    "import rpy2.robjects as ro\n",
    "\n",
    "import rpy2.robjects.numpy2ri\n",
    "rpy2.robjects.numpy2ri.activate()\n",
    "from rpy2.robjects import pandas2ri\n",
    "pandas2ri.activate()\n",
    "from rpy2 import robjects\n",
    "from rpy2.robjects.vectors import IntVector\n",
    "rpy2.robjects.NameClassMap = rpy2.robjects.conversion.NameClassMap\n",
    "from rpy2_Matrix import Matrix\n",
    "from rpy2_Matrix import conversion\n",
    "\n",
    "# Choosing a CRAN Mirror\n",
    "#import rpy2.robjects.packages as rpackages\n",
    "#utils = rpackages.importr('utils')\n",
    "#utils.chooseCRANmirror(ind=1)\n",
    "\n",
    "# Installing required packages\n",
    "#from rpy2.robjects.vectors import StrVector\n",
    "#packages = ('drf')\n",
    "#utils.install_packages(StrVector(packages))\n",
    "\n",
    "# Import packages\n",
    "from rpy2.robjects.packages import importr\n",
    "base, drf_r_package = importr('base'), importr('drf')\n",
    "\n",
    "# Import Functions\n",
    "#fit, predict = drf.drf, drf.predict_drf"
   ]
  },
  {
   "cell_type": "code",
   "execution_count": 2,
   "metadata": {},
   "outputs": [],
   "source": [
    "def convert_to_R(X):\n",
    "    if type(X) == np.ndarray:\n",
    "        if len(X.shape) == 1: \n",
    "            X = X.reshape(1, X.shape[0])\n",
    "        nr, nc = X.shape\n",
    "        return ro.r.matrix(X, nrow=nr, ncol=nc)\n",
    "\n",
    "    if type(X) == pd.core.frame.DataFrame:\n",
    "        return ro.conversion.py2rpy(X)\n",
    "\n",
    "class drf:\n",
    "    def __init__(self, **fit_params):\n",
    "        self.fit_params = fit_params \n",
    "    \n",
    "    class predict_output: pass\n",
    "    \n",
    "    def fit(self, X, Y):\n",
    "        self.X_train = X\n",
    "        self.Y_train = Y\n",
    "        \n",
    "        X_r = convert_to_R(X)\n",
    "        Y_r = convert_to_R(Y)\n",
    "        \n",
    "        self.r_fit_object = drf_r_package.drf(X_r, Y_r, **self.fit_params)\n",
    "\n",
    "    def myFun(**kwargs):  \n",
    "        for key, value in kwargs.items(): \n",
    "            print (\"%s == %s\" %(key, value)) \n",
    "\n",
    "    def predict(self, newdata, **predict_params):\n",
    "        newdata_r = convert_to_R(newdata)\n",
    "        r_output = drf_r_package.predict_drf(self.r_fit_object, newdata_r, **predict_params)\n",
    "\n",
    "        ret = self.predict_output()\n",
    "        for i in range(len(r_output)):\n",
    "            value = r_output[i]\n",
    "            if r_output.names[i] == 'weights':\n",
    "                value = base.as_matrix(r_output[i])\n",
    "            setattr(ret, r_output.names[i], value)\n",
    "        return ret"
   ]
  },
  {
   "cell_type": "code",
   "execution_count": 4,
   "metadata": {},
   "outputs": [],
   "source": [
    "import numpy as np\n",
    "import pandas as pd\n",
    "\n",
    "n=1000\n",
    "p=10\n",
    "d=2\n",
    "X = np.random.normal(0, 1, size=(n, p))\n",
    "Y = np.random.normal(0, 1, size=(n, d))\n",
    "Y[:,0] = Y[:,0] + X[:,0]\n",
    "Y[:,1] = Y[:,1] * X[:,1]\n",
    "\n",
    "#X = pd.DataFrame(X)\n",
    "#Y = pd.DataFrame(Y)"
   ]
  },
  {
   "cell_type": "code",
   "execution_count": null,
   "metadata": {},
   "outputs": [],
   "source": [
    "regr = drf(mtry=3, bandwidth=1.1, min_node_size=10, num_trees=100, num_features=10, splitting_rule=\"CART\")\n",
    "regr.fit(X, Y)\n",
    "out = regr.predict(newdata=X[1,:], functional='mean', transformation=lambda y : y)#, quantiles=np.array([0.1, 0.5, 0.9]))\n",
    "#fix quantiles parameter to be of any type\n",
    "#reformat quantiles output"
   ]
  }
 ],
 "metadata": {
  "kernelspec": {
   "display_name": "Python 3",
   "language": "python",
   "name": "python3"
  },
  "language_info": {
   "codemirror_mode": {
    "name": "ipython",
    "version": 3
   },
   "file_extension": ".py",
   "mimetype": "text/x-python",
   "name": "python",
   "nbconvert_exporter": "python",
   "pygments_lexer": "ipython3",
   "version": "3.7.4"
  }
 },
 "nbformat": 4,
 "nbformat_minor": 2
}
